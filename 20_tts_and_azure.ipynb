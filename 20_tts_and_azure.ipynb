{
 "cells": [
  {
   "cell_type": "code",
   "execution_count": 7,
   "metadata": {},
   "outputs": [
    {
     "data": {
      "text/plain": [
       "<azure.cognitiveservices.speech.ResultFuture at 0x7fcb38630700>"
      ]
     },
     "execution_count": 7,
     "metadata": {},
     "output_type": "execute_result"
    }
   ],
   "source": [
    "import os\n",
    "import azure.cognitiveservices.speech as speechsdk\n",
    "\n",
    "speech_config = speechsdk.SpeechConfig(subscription=os.environ.get('AZURE_SPEECH_KEY'), region=os.environ.get('AZURE_SPEECH_REGION'))\n",
    "audio_config = speechsdk.audio.AudioOutputConfig(use_default_speaker=True)\n",
    "\n",
    "# The language of the voice that speaks.\n",
    "speech_config.speech_synthesis_language='zh-CN'\n",
    "speech_config.speech_synthesis_voice_name='zh-CN-XiaohanNeural'\n",
    "\n",
    "speech_synthesizer = speechsdk.SpeechSynthesizer(speech_config=speech_config, audio_config=audio_config)\n",
    "\n",
    "text = \"今天天气真不错，ChatGPT真好用\"\n",
    "\n",
    "speech_synthesizer.speak_text_async(text)"
   ]
  },
  {
   "attachments": {},
   "cell_type": "markdown",
   "metadata": {},
   "source": [
    "## 使用男声"
   ]
  },
  {
   "cell_type": "code",
   "execution_count": 11,
   "metadata": {},
   "outputs": [
    {
     "data": {
      "text/plain": [
       "<azure.cognitiveservices.speech.ResultFuture at 0x7fcb38630af0>"
      ]
     },
     "execution_count": 11,
     "metadata": {},
     "output_type": "execute_result"
    }
   ],
   "source": [
    "speech_config.speech_synthesis_voice_name='zh-CN-YunfengNeural'\n",
    "speech_synthesizer = speechsdk.SpeechSynthesizer(speech_config=speech_config, audio_config=audio_config)\n",
    "speech_synthesizer.speak_text_async(text)"
   ]
  },
  {
   "attachments": {},
   "cell_type": "markdown",
   "metadata": {},
   "source": [
    "## 自定义语气和角色"
   ]
  },
  {
   "cell_type": "code",
   "execution_count": 18,
   "metadata": {},
   "outputs": [],
   "source": [
    "ssml = \"\"\"<speak version=\"1.0\" xmlns=\"http://www.w3.org/2001/10/synthesis\"\n",
    "       xmlns:mstts=\"https://www.w3.org/2001/mstts\" xml:lang=\"zh-CN\">\n",
    "    <voice name=\"zh-CN-YunyeNeural\">\n",
    "        儿子看见母亲走了过来，说到：\n",
    "        <mstts:express-as role=\"Boy\" style=\"cheerful\">\n",
    "            “妈妈，我想要买个新玩具”\n",
    "        </mstts:express-as>\n",
    "    </voice>\n",
    "    <voice name=\"zh-CN-XiaomoNeural\">\n",
    "        母亲放下包，说：\n",
    "        <mstts:express-as role=\"SeniorFemale\" style=\"angry\">\n",
    "            “我看你长得像个玩具。”\n",
    "        </mstts:express-as>\n",
    "    </voice>\n",
    "</speak>\"\"\"\n",
    "\n",
    "speech_synthesis_result = speech_synthesizer.speak_ssml_async(ssml).get()"
   ]
  },
  {
   "cell_type": "code",
   "execution_count": 22,
   "metadata": {},
   "outputs": [],
   "source": [
    "ssml = \"\"\"<speak version=\"1.0\" xmlns=\"http://www.w3.org/2001/10/synthesis\"\n",
    "       xmlns:mstts=\"https://www.w3.org/2001/mstts\" xml:lang=\"en-US\">\n",
    "    <voice name=\"en-US-JennyNeural\">\n",
    "        <mstts:express-as style=\"excited\">\n",
    "            That'd be just amazing!\n",
    "        </mstts:express-as>\n",
    "        <mstts:express-as style=\"friendly\">\n",
    "            What's next?\n",
    "        </mstts:express-as>\n",
    "    </voice>\n",
    "</speak>\"\"\"\n",
    "\n",
    "speech_synthesis_result = speech_synthesizer.speak_ssml_async(ssml).get()"
   ]
  },
  {
   "attachments": {},
   "cell_type": "markdown",
   "metadata": {},
   "source": [
    "## 输出到文件"
   ]
  },
  {
   "cell_type": "code",
   "execution_count": 23,
   "metadata": {},
   "outputs": [
    {
     "data": {
      "text/plain": [
       "<azure.cognitiveservices.speech.ResultFuture at 0x7fcb5874cc70>"
      ]
     },
     "execution_count": 23,
     "metadata": {},
     "output_type": "execute_result"
    }
   ],
   "source": [
    "audio_config = speechsdk.audio.AudioOutputConfig(filename=\"./data/tts.wav\")\n",
    "\n",
    "speech_config.speech_synthesis_language='zh-CN'\n",
    "speech_config.speech_synthesis_voice_name='zh-CN-XiaohanNeural'\n",
    "\n",
    "speech_synthesizer = speechsdk.SpeechSynthesizer(speech_config=speech_config, audio_config=audio_config)\n",
    "\n",
    "text = \"今天天气真不错，ChatGPT真好用\"\n",
    "\n",
    "speech_synthesizer.speak_text_async(text)\n"
   ]
  },
  {
   "attachments": {},
   "cell_type": "markdown",
   "metadata": {},
   "source": [
    "## 输出成MP3"
   ]
  },
  {
   "cell_type": "code",
   "execution_count": 28,
   "metadata": {},
   "outputs": [],
   "source": [
    "speech_config.set_speech_synthesis_output_format(speechsdk.SpeechSynthesisOutputFormat.Audio48Khz192KBitRateMonoMp3)\n",
    "\n",
    "speech_synthesizer = speechsdk.SpeechSynthesizer(speech_config=speech_config, audio_config=None)\n",
    "result = speech_synthesizer.speak_text_async(text).get()\n",
    "stream =speechsdk.AudioDataStream(result)\n",
    "\n",
    "stream.save_to_wav_file(\"./data/tts.mp3\")"
   ]
  },
  {
   "attachments": {},
   "cell_type": "markdown",
   "metadata": {},
   "source": [
    "## PaddlePaddle语音合成"
   ]
  },
  {
   "cell_type": "code",
   "execution_count": 55,
   "metadata": {},
   "outputs": [
    {
     "name": "stderr",
     "output_type": "stream",
     "text": [
      "\u001b[32m[2023-04-08 20:58:44,592] [    INFO]\u001b[0m - Already cached /Users/xuwenhao/.paddlenlp/models/bert-base-chinese/bert-base-chinese-vocab.txt\u001b[0m\n",
      "\u001b[32m[2023-04-08 20:58:44,609] [    INFO]\u001b[0m - tokenizer config file saved in /Users/xuwenhao/.paddlenlp/models/bert-base-chinese/tokenizer_config.json\u001b[0m\n",
      "\u001b[32m[2023-04-08 20:58:44,610] [    INFO]\u001b[0m - Special tokens file saved in /Users/xuwenhao/.paddlenlp/models/bert-base-chinese/special_tokens_map.json\u001b[0m\n"
     ]
    },
    {
     "data": {
      "text/plain": [
       "'/Users/xuwenhao/Codebase/personal/geektime-ai-course/data/paddlespeech.wav'"
      ]
     },
     "execution_count": 55,
     "metadata": {},
     "output_type": "execute_result"
    }
   ],
   "source": [
    "from paddlespeech.cli.tts.infer import TTSExecutor\n",
    "\n",
    "tts_executor = TTSExecutor()\n",
    "\n",
    "text = \"今天天气十分不错，百度也能做语音合成。\"\n",
    "output_file = \"./data/paddlespeech.wav\"\n",
    "tts_executor(text=text, output=output_file)\n"
   ]
  },
  {
   "cell_type": "code",
   "execution_count": 53,
   "metadata": {},
   "outputs": [],
   "source": [
    "import wave\n",
    "import pyaudio\n",
    "\n",
    "\n",
    "def play_wav_audio(wav_file):\n",
    "    # open the wave file\n",
    "    wf = wave.open(wav_file, 'rb')\n",
    "\n",
    "    # instantiate PyAudio\n",
    "    p = pyaudio.PyAudio()\n",
    "\n",
    "    # open a stream\n",
    "    stream = p.open(format=p.get_format_from_width(wf.getsampwidth()),\n",
    "                    channels=wf.getnchannels(),\n",
    "                    rate=wf.getframerate(),\n",
    "                    output=True)\n",
    "\n",
    "    # read data from the wave file and play it\n",
    "    data = wf.readframes(1024)\n",
    "    while data:\n",
    "        stream.write(data)\n",
    "        data = wf.readframes(1024)\n",
    "\n",
    "    # close the stream and terminate PyAudio\n",
    "    stream.stop_stream()\n",
    "    stream.close()\n",
    "    p.terminate()\n",
    "\n",
    "play_wav_audio(output_file)"
   ]
  },
  {
   "attachments": {},
   "cell_type": "markdown",
   "metadata": {},
   "source": [
    "## 英文内容丢失"
   ]
  },
  {
   "cell_type": "code",
   "execution_count": 69,
   "metadata": {},
   "outputs": [
    {
     "name": "stderr",
     "output_type": "stream",
     "text": [
      "\u001b[32m[2023-04-08 21:24:59,936] [    INFO]\u001b[0m - Already cached /Users/xuwenhao/.paddlenlp/models/bert-base-chinese/bert-base-chinese-vocab.txt\u001b[0m\n",
      "\u001b[32m[2023-04-08 21:24:59,954] [    INFO]\u001b[0m - tokenizer config file saved in /Users/xuwenhao/.paddlenlp/models/bert-base-chinese/tokenizer_config.json\u001b[0m\n",
      "\u001b[32m[2023-04-08 21:24:59,955] [    INFO]\u001b[0m - Special tokens file saved in /Users/xuwenhao/.paddlenlp/models/bert-base-chinese/special_tokens_map.json\u001b[0m\n"
     ]
    },
    {
     "data": {
      "text/plain": [
       "'/Users/xuwenhao/Codebase/personal/geektime-ai-course/data/paddlespeech_missing.wav'"
      ]
     },
     "execution_count": 69,
     "metadata": {},
     "output_type": "execute_result"
    }
   ],
   "source": [
    "tts_executor = TTSExecutor()\n",
    "\n",
    "text = \"今天天气十分不错，PaddleSpeech也能做语音合成。\"\n",
    "output_file = \"./data/paddlespeech_missing.wav\"\n",
    "tts_executor(text=text, output=output_file)\n",
    "\n",
    "play_wav_audio(output_file)"
   ]
  },
  {
   "attachments": {},
   "cell_type": "markdown",
   "metadata": {},
   "source": [
    "## 选用合适模型，提供中英文混合效果"
   ]
  },
  {
   "cell_type": "code",
   "execution_count": 71,
   "metadata": {},
   "outputs": [
    {
     "name": "stderr",
     "output_type": "stream",
     "text": [
      "\u001b[32m[2023-04-08 21:30:09,670] [    INFO]\u001b[0m - Already cached /Users/xuwenhao/.paddlenlp/models/bert-base-chinese/bert-base-chinese-vocab.txt\u001b[0m\n",
      "\u001b[32m[2023-04-08 21:30:09,695] [    INFO]\u001b[0m - tokenizer config file saved in /Users/xuwenhao/.paddlenlp/models/bert-base-chinese/tokenizer_config.json\u001b[0m\n",
      "\u001b[32m[2023-04-08 21:30:09,698] [    INFO]\u001b[0m - Special tokens file saved in /Users/xuwenhao/.paddlenlp/models/bert-base-chinese/special_tokens_map.json\u001b[0m\n"
     ]
    }
   ],
   "source": [
    "tts_executor = TTSExecutor()\n",
    "\n",
    "text = \"早上好, how are you? 百度Paddle Speech一样能做中英文混合的语音合成。\"\n",
    "output_file = \"./data/paddlespeech_mix.wav\"\n",
    "tts_executor(text=text, output=output_file, \n",
    "             am=\"fastspeech2_mix\", voc=\"hifigan_csmsc\", \n",
    "             lang=\"mix\", spk_id=174)\n",
    "\n",
    "play_wav_audio(output_file)"
   ]
  },
  {
   "cell_type": "code",
   "execution_count": 72,
   "metadata": {},
   "outputs": [
    {
     "name": "stderr",
     "output_type": "stream",
     "text": [
      "\u001b[32m[2023-04-08 21:34:34,947] [    INFO]\u001b[0m - Already cached /Users/xuwenhao/.paddlenlp/models/bert-base-chinese/bert-base-chinese-vocab.txt\u001b[0m\n",
      "\u001b[32m[2023-04-08 21:34:34,961] [    INFO]\u001b[0m - tokenizer config file saved in /Users/xuwenhao/.paddlenlp/models/bert-base-chinese/tokenizer_config.json\u001b[0m\n",
      "\u001b[32m[2023-04-08 21:34:34,962] [    INFO]\u001b[0m - Special tokens file saved in /Users/xuwenhao/.paddlenlp/models/bert-base-chinese/special_tokens_map.json\u001b[0m\n"
     ]
    }
   ],
   "source": [
    "tts_executor = TTSExecutor()\n",
    "\n",
    "text = \"早上好, how are you? 百度Paddle Speech一样能做中英文混合的语音合成。\"\n",
    "output_file = \"./data/paddlespeech_mix_another.wav\"\n",
    "tts_executor(text=text, output=output_file, \n",
    "             am=\"fastspeech2_mix\", voc=\"hifigan_csmsc\", \n",
    "             lang=\"mix\", spk_id=175)\n",
    "\n",
    "play_wav_audio(output_file)"
   ]
  },
  {
   "cell_type": "code",
   "execution_count": null,
   "metadata": {},
   "outputs": [],
   "source": []
  }
 ],
 "metadata": {
  "kernelspec": {
   "display_name": "geektime",
   "language": "python",
   "name": "python3"
  },
  "language_info": {
   "codemirror_mode": {
    "name": "ipython",
    "version": 3
   },
   "file_extension": ".py",
   "mimetype": "text/x-python",
   "name": "python",
   "nbconvert_exporter": "python",
   "pygments_lexer": "ipython3",
   "version": "3.10.9"
  },
  "orig_nbformat": 4
 },
 "nbformat": 4,
 "nbformat_minor": 2
}
