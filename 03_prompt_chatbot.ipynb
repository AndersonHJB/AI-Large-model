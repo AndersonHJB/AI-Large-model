{
 "cells": [
  {
   "cell_type": "markdown",
   "metadata": {},
   "source": [
    "## 让AI帮我做客服"
   ]
  },
  {
   "cell_type": "code",
   "execution_count": 1,
   "metadata": {},
   "outputs": [],
   "source": [
    "import openai\n",
    "import os\n",
    "\n",
    "openai.api_key = os.environ.get(\"OPENAI_API_KEY\")\n",
    "COMPLETION_MODEL = \"text-davinci-003\"\n",
    "\n",
    "\n",
    "prompt = '请你用朋友的语气回复给到客户，并称他为“亲”，他的订单已经发货在路上了，预计在3天之内会送达，订单号2021AEDG，我们很抱歉因为天气的原因物流时间比原来长，感谢他选购我们的商品。'\n",
    "\n",
    "def get_response(prompt, temperature = 1.0, stop=None):\n",
    "    completions = openai.Completion.create (\n",
    "        engine=COMPLETION_MODEL,\n",
    "        prompt=prompt,\n",
    "        max_tokens=1024,\n",
    "        n=1,\n",
    "        stop=stop,\n",
    "        temperature=temperature,        \n",
    "    )\n",
    "    message = completions.choices[0].text\n",
    "    return message\n",
    "    \n"
   ]
  },
  {
   "cell_type": "code",
   "execution_count": 2,
   "metadata": {},
   "outputs": [
    {
     "name": "stdout",
     "output_type": "stream",
     "text": [
      "\n",
      "\n",
      "亲，您的订单2021AEDG已发货，预计在三天内会送达。很抱歉因为天气的原因，物流可能会迟了一点。谢谢您选购我们的商品。\n"
     ]
    }
   ],
   "source": [
    "print(get_response(prompt))"
   ]
  },
  {
   "cell_type": "code",
   "execution_count": 3,
   "metadata": {},
   "outputs": [
    {
     "name": "stdout",
     "output_type": "stream",
     "text": [
      "\n",
      "\n",
      "亲，您已下单成功，订单号2021AEDG，我们已将货物发出，预计将在3天内送达。目前，由于天气的原因，物流时间比原来有些延迟，这里我们真的很抱歉。最后，感谢您对我们的支持与关注！祝您生活愉快！\n"
     ]
    }
   ],
   "source": [
    "print(get_response(prompt))"
   ]
  },
  {
   "cell_type": "markdown",
   "metadata": {},
   "source": [
    "## 变更Temperature"
   ]
  },
  {
   "cell_type": "code",
   "execution_count": 4,
   "metadata": {},
   "outputs": [
    {
     "name": "stdout",
     "output_type": "stream",
     "text": [
      "\n",
      "\n",
      "亲，您的订单2021AEDG已经发货，预计在3天之内会送达。很抱歉因为天气的原因物流时间比原来长，感谢您选购我们的商品，祝您购物愉快！\n"
     ]
    }
   ],
   "source": [
    "print(get_response(prompt, 0.0))"
   ]
  },
  {
   "cell_type": "code",
   "execution_count": 5,
   "metadata": {},
   "outputs": [
    {
     "name": "stdout",
     "output_type": "stream",
     "text": [
      "\n",
      "\n",
      "亲，您的订单2021AEDG已经发货，预计在3天之内会送达。很抱歉因为天气的原因物流时间比原来长，感谢您选购我们的商品，祝您购物愉快！\n"
     ]
    }
   ],
   "source": [
    "print(get_response(prompt, 0.0))"
   ]
  },
  {
   "cell_type": "markdown",
   "metadata": {},
   "source": [
    "## 测试stop参数"
   ]
  },
  {
   "cell_type": "code",
   "execution_count": 6,
   "metadata": {},
   "outputs": [
    {
     "name": "stdout",
     "output_type": "stream",
     "text": [
      "\n",
      "\n",
      "亲\n"
     ]
    }
   ],
   "source": [
    "print(get_response(prompt, 0.0, \"，\"))"
   ]
  },
  {
   "cell_type": "markdown",
   "metadata": {},
   "source": [
    "## 让AI帮我做聊天机器人"
   ]
  },
  {
   "cell_type": "code",
   "execution_count": 7,
   "metadata": {},
   "outputs": [
    {
     "name": "stdout",
     "output_type": "stream",
     "text": [
      "1. 锅中放油，加入蒜末、葱末、冬菇粉和大蒜粉，加入腊肉片爆香。\n",
      "\n",
      "2. 加入肉末，芹菜末，炒香。\n",
      "\n",
      "3. 加入番茄酱、水淀粉、盐、糖、老抽、料酒。\n",
      "\n",
      "4. 加入熟白菜和黄豆粉，翻炒。\n",
      "\n",
      "5. 最后加入香菜末炒匀出锅即可。\n"
     ]
    }
   ],
   "source": [
    "question =  \"\"\"\n",
    "Q : 鱼香肉丝怎么做？\n",
    "A : \n",
    "\"\"\"\n",
    "print(get_response(question))"
   ]
  },
  {
   "cell_type": "markdown",
   "metadata": {},
   "source": [
    "## 多轮对话"
   ]
  },
  {
   "cell_type": "code",
   "execution_count": 8,
   "metadata": {},
   "outputs": [
    {
     "name": "stdout",
     "output_type": "stream",
     "text": [
      "1.准备好食材：500克牛肉，2勺蚝油，1勺老抽，1勺葱花，配料：2勺姜末，2勺料酒，1勺糖，半勺盐，1勺醋，2勺香油，半勺糯米粉，半勺绍酒。\n",
      "2.将牛肉洗净，切成片，放入料酒、盐、姜末拌匀腌制20分钟。\n",
      "3.把蚝油、老抽、葱花、糖、醋、香油、糯米粉、绍酒放入碗中，搅拌均匀。\n",
      "4.将牛肉片放入船形锅内，慢火翻炒至半熟，倒入调味料，用中火收汁，最后加入香菜，大火翻炒几下即可。\n"
     ]
    }
   ],
   "source": [
    "question =  \"\"\"\n",
    "Q : 鱼香肉丝怎么做？\n",
    "A : \n",
    "1.准备好食材：500克猪里脊肉，2个青椒，2个红椒，1个洋葱，2勺蒜蓉，3勺白糖，适量料酒，半勺盐，2勺生抽，2勺酱油，2勺醋，少许花椒粉，半勺老抽，适量水淀粉。\n",
    "2.将猪里脊肉洗净，沥干水分，放入料酒、盐，抓捏抓匀，腌制20分钟。\n",
    "3.将青红椒洗净，切成丝，洋葱洗净，切成葱花，蒜末拌入小苏打水中腌制。\n",
    "4.将猪里脊肉切成丝，放入锅中，加入洋葱，炒制至断生，加入青红椒，炒匀，加入腌制好的蒜末，炒制至断生。\n",
    "5.将白糖、生抽、酱油、醋、花椒粉、老抽、水淀粉倒入锅中，翻炒匀，用小火收汁，调味即可。\n",
    "\n",
    "Q : 那蚝油牛肉呢？\n",
    "A : \n",
    "\"\"\"\n",
    "print(get_response(question))"
   ]
  },
  {
   "cell_type": "markdown",
   "metadata": {},
   "source": [
    "## food_chatbot.py"
   ]
  },
  {
   "cell_type": "code",
   "execution_count": 9,
   "metadata": {},
   "outputs": [
    {
     "name": "stdout",
     "output_type": "stream",
     "text": [
      "你好，我是一个聊天机器人，请你提出你的问题吧?\n"
     ]
    },
    {
     "name": "stdin",
     "output_type": "stream",
     "text": [
      ">  你好\n"
     ]
    },
    {
     "name": "stdout",
     "output_type": "stream",
     "text": [
      "你好\n"
     ]
    },
    {
     "name": "stdin",
     "output_type": "stream",
     "text": [
      ">  请问鱼香肉丝怎么做？\n"
     ]
    },
    {
     "name": "stdout",
     "output_type": "stream",
     "text": [
      "鱼香肉丝的做法：\n",
      "1.准备好所需的食材：猪肉、葱、姜、蒜、腐竹、酱油、白糖、料酒、醋、香油等。\n",
      "2.将猪肉切成片，加入料酒、盐、鸡精腌制半小时。\n",
      "3.准备调料，将葱、姜、蒜、腐竹切成末，将酱油、白糖、醋、香油混合均匀备用。\n",
      "4.锅中加入油，放入葱、姜、蒜、腐竹炒香。\n",
      "5.放入腌制好的猪肉，翻炒均匀，加入调料拌匀。\n",
      "6.加入适量清水，盖上锅盖焖煮5分钟，即可。\n"
     ]
    },
    {
     "name": "stdin",
     "output_type": "stream",
     "text": [
      ">  那蚝油牛肉呢？\n"
     ]
    },
    {
     "name": "stdout",
     "output_type": "stream",
     "text": [
      "蚝油牛肉的做法：\n",
      "1.准备好所需的食材：牛肉、葱、姜、蒜、蚝油、料酒、醋、香油等。\n",
      "2.将牛肉切成片，加入料酒、盐、鸡精腌制半小时。\n",
      "3.准备调料，将葱、姜、蒜切成末，将蚝油、醋、香油混合均匀备用。\n",
      "4.锅中加入油，放入葱、姜、蒜炒香。\n",
      "5.放入腌制好的牛肉，翻炒均匀，加入调料拌匀。\n",
      "6.加入适量清水，盖上锅盖焖煮5分钟，即可。\n"
     ]
    },
    {
     "name": "stdin",
     "output_type": "stream",
     "text": [
      ">  bye\n"
     ]
    },
    {
     "name": "stdout",
     "output_type": "stream",
     "text": [
      "Goodbye!\n"
     ]
    }
   ],
   "source": [
    "import openai\n",
    "import os\n",
    "\n",
    "openai.api_key = os.environ[\"OPENAI_API_KEY\"]\n",
    "\n",
    "def ask_gpt3(prompt):\n",
    "    response = openai.Completion.create(\n",
    "        engine=\"text-davinci-003\",\n",
    "        prompt=prompt,\n",
    "        max_tokens=512,\n",
    "        n=1,\n",
    "        stop=None,\n",
    "        temperature=0.5,\n",
    "    )\n",
    "\n",
    "    message = response.choices[0].text.strip()\n",
    "    return message\n",
    "\n",
    "print(\"你好，我是一个聊天机器人，请你提出你的问题吧?\")\n",
    "\n",
    "questions = []\n",
    "answers = []\n",
    "\n",
    "\n",
    "def generate_prompt(prompt, questions, answers):\n",
    "    num = len(answers)\n",
    "    for i in range(num):\n",
    "        prompt += \"\\n Q : \" + questions[i]\n",
    "        prompt += \"\\n A : \" + answers[i]\n",
    "    prompt += \"\\n Q : \" + questions[num] + \"\\n A : \"        \n",
    "    return prompt\n",
    "\n",
    "while True:\n",
    "    user_input = input(\"> \")\n",
    "    questions.append(user_input)\n",
    "    if user_input.lower() in [\"bye\", \"goodbye\", \"exit\"]:\n",
    "        print(\"Goodbye!\")\n",
    "        break\n",
    "    \n",
    "    prompt = generate_prompt(\"\", questions, answers)\n",
    "\n",
    "    answer = ask_gpt3(prompt)\n",
    "    print(answer)\n",
    "    answers.append(answer)\n"
   ]
  },
  {
   "cell_type": "markdown",
   "metadata": {},
   "source": [
    "## 让AI帮我解决情感分析问题\n"
   ]
  },
  {
   "cell_type": "code",
   "execution_count": 10,
   "metadata": {},
   "outputs": [
    {
     "name": "stdout",
     "output_type": "stream",
     "text": [
      "正面\n"
     ]
    }
   ],
   "source": [
    "prompts = \"\"\"判断一下用户的评论情感上是正面的还是负面的\n",
    "评论：买的银色版真的很好看，一天就到了，晚上就开始拿起来完系统很丝滑流畅，做工扎实，手感细腻，很精致哦苹果一如既往的好品质\n",
    "情感：正面\n",
    "\n",
    "评论：随意降价，不予价保，服务态度差\n",
    "情感：负面\n",
    "\"\"\"\n",
    "\n",
    "good_case = prompts + \"\"\"\n",
    "评论：外形外观：苹果审美一直很好，金色非常漂亮\n",
    "拍照效果：14pro升级的4800万像素真的是没的说，太好了，\n",
    "运行速度：苹果的反应速度好，用上三五年也不会卡顿的，之前的7P用到现在也不卡\n",
    "其他特色：14pro的磨砂金真的太好看了，不太高调，也不至于没有特点，非常耐看，很好的\n",
    "情感：\n",
    "\"\"\"\n",
    "\n",
    "print(get_response(good_case))"
   ]
  },
  {
   "cell_type": "code",
   "execution_count": 11,
   "metadata": {
    "tags": []
   },
   "outputs": [
    {
     "name": "stdout",
     "output_type": "stream",
     "text": [
      "负面\n"
     ]
    }
   ],
   "source": [
    "bad_case = prompts + \"\"\"\n",
    "评论：信号不好电池也不耐电不推荐购买\n",
    "情感\n",
    "\"\"\"\n",
    "\n",
    "print(get_response(bad_case))"
   ]
  }
 ],
 "metadata": {
  "kernelspec": {
   "display_name": "Python 3 (ipykernel)",
   "language": "python",
   "name": "python3"
  },
  "language_info": {
   "codemirror_mode": {
    "name": "ipython",
    "version": 3
   },
   "file_extension": ".py",
   "mimetype": "text/x-python",
   "name": "python",
   "nbconvert_exporter": "python",
   "pygments_lexer": "ipython3",
   "version": "3.10.9"
  },
  "vscode": {
   "interpreter": {
    "hash": "8114e84f04cf14e493992e1b725447accf84073d5ec18e7063d492738bf032cb"
   }
  }
 },
 "nbformat": 4,
 "nbformat_minor": 4
}
