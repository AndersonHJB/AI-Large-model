{
 "cells": [
  {
   "attachments": {},
   "cell_type": "markdown",
   "metadata": {},
   "source": [
    "## 选择题"
   ]
  },
  {
   "cell_type": "code",
   "execution_count": 8,
   "metadata": {},
   "outputs": [],
   "source": [
    "import openai, os\n",
    "\n",
    "openai.api_key = os.environ.get(\"OPENAI_API_KEY\")\n",
    "\n",
    "from langchain.prompts import PromptTemplate\n",
    "from langchain.chat_models import ChatOpenAI\n",
    "from langchain.chains import LLMChain\n",
    "\n",
    "\n",
    "choicellm = ChatOpenAI(max_tokens=2048, temperature=0.5)\n",
    "multiple_choice = \"\"\"\n",
    "请针对 >>> 和 <<< 中间的用户问题，选择一个合适的工具去回答她的问题。只要用A、B、C的选项字母告诉我答案。\n",
    "如果你觉得都不合适，就选D。\n",
    "\n",
    ">>>{question}<<<\n",
    "\n",
    "我们有的工具包括：\n",
    "A. 一个能够查询商品信息，为用户进行商品导购的工具。\n",
    "B. 一个能够查询订单信息，获得最新的订单情况的工具\n",
    "C. 一个能够搜索商家的退换货政策、运费、物流时长、支付渠道、覆盖国家的工具\n",
    "D. 都不合适\n",
    "\"\"\"\n",
    "multiple_choice_prompt = PromptTemplate(template=multiple_choice, input_variables=[\"question\"])\n",
    "choice_chain = LLMChain(llm=choicellm, prompt=multiple_choice_prompt, output_key=\"answer\")"
   ]
  },
  {
   "cell_type": "code",
   "execution_count": 9,
   "metadata": {},
   "outputs": [
    {
     "name": "stdout",
     "output_type": "stream",
     "text": [
      "{'question': '我想买一件衣服，但是不知道哪个款式好看，你能帮我推荐一下吗？', 'answer': 'A. 一个能够查询商品信息，为用户进行商品导购的工具。'}\n"
     ]
    }
   ],
   "source": [
    "question = \"我想买一件衣服，但是不知道哪个款式好看，你能帮我推荐一下吗？\"\n",
    "print(choice_chain(question))"
   ]
  },
  {
   "cell_type": "code",
   "execution_count": 10,
   "metadata": {},
   "outputs": [
    {
     "name": "stdout",
     "output_type": "stream",
     "text": [
      "{'question': '我有一张订单，订单号是 2022ABCDE，一直没有收到，能麻烦帮我查一下吗？', 'answer': 'B. 一个能够查询订单信息，获得最新的订单情况的工具'}\n"
     ]
    }
   ],
   "source": [
    "question = \"我有一张订单，订单号是 2022ABCDE，一直没有收到，能麻烦帮我查一下吗？\"\n",
    "print(choice_chain(question)) "
   ]
  },
  {
   "cell_type": "code",
   "execution_count": 11,
   "metadata": {},
   "outputs": [
    {
     "name": "stdout",
     "output_type": "stream",
     "text": [
      "{'question': '请问你们的货，能送到三亚吗？大概需要几天？', 'answer': 'C. 一个能够搜索商家的退换货政策、运费、物流时长、支付渠道、覆盖国家的工具。'}\n"
     ]
    }
   ],
   "source": [
    "question = \"请问你们的货，能送到三亚吗？大概需要几天？\"\n",
    "print(choice_chain(question))"
   ]
  },
  {
   "cell_type": "code",
   "execution_count": 12,
   "metadata": {},
   "outputs": [
    {
     "name": "stdout",
     "output_type": "stream",
     "text": [
      "{'question': '今天天气怎么样？', 'answer': 'D. 都不合适。这个问题需要回答天气情况，因此需要一个天气预报工具。'}\n"
     ]
    }
   ],
   "source": [
    "question = \"今天天气怎么样？\"\n",
    "print(choice_chain(question))"
   ]
  },
  {
   "attachments": {},
   "cell_type": "markdown",
   "metadata": {},
   "source": [
    "## Agent实现"
   ]
  },
  {
   "cell_type": "code",
   "execution_count": 13,
   "metadata": {},
   "outputs": [],
   "source": [
    "from langchain.agents import initialize_agent, Tool\n",
    "from langchain.llms import OpenAI\n",
    "\n",
    "def search_order(input: str) -> str:\n",
    "    return \"订单状态：已发货；发货日期：2023-01-01；预计送达时间：2023-01-10\"\n",
    "\n",
    "def recommend_product(input: str) -> str:\n",
    "    return \"红色连衣裙\"\n",
    "\n",
    "def faq(intput: str) -> str:\n",
    "    return \"7天无理由退货\"\n",
    "\n",
    "tools = [\n",
    "    Tool(\n",
    "        name = \"Search Order\",func=search_order, \n",
    "        description=\"useful for when you need to answer questions about customers orders\"\n",
    "    ),\n",
    "    Tool(name=\"Recommend Product\", func=recommend_product, \n",
    "         description=\"useful for when you need to answer questions about product recommendations\"\n",
    "    ),\n",
    "    Tool(name=\"FAQ\", func=faq,\n",
    "         description=\"useful for when you need to answer questions about shopping policies, like return policy, shipping policy, etc.\"\n",
    "    )\n",
    "]\n",
    "\n",
    "agent = initialize_agent(tools, OpenAI(temperature=0), agent=\"zero-shot-react-description\", verbose=True)"
   ]
  },
  {
   "cell_type": "code",
   "execution_count": 14,
   "metadata": {},
   "outputs": [
    {
     "name": "stdout",
     "output_type": "stream",
     "text": [
      "\n",
      "\n",
      "\u001b[1m> Entering new AgentExecutor chain...\u001b[0m\n",
      "\u001b[32;1m\u001b[1;3m I need to recommend a product.\n",
      "Action: Recommend Product\n",
      "Action Input: Clothing\u001b[0m\n",
      "Observation: \u001b[33;1m\u001b[1;3m红色连衣裙\u001b[0m\n",
      "Thought:\u001b[32;1m\u001b[1;3m I now know the final answer.\n",
      "Final Answer: 我推荐红色连衣裙。\u001b[0m\n",
      "\n",
      "\u001b[1m> Finished chain.\u001b[0m\n",
      "我推荐红色连衣裙。\n"
     ]
    }
   ],
   "source": [
    "question = \"我想买一件衣服，但是不知道哪个款式好看，你能帮我推荐一下吗？\"\n",
    "result = agent.run(question)\n",
    "print(result)"
   ]
  },
  {
   "cell_type": "code",
   "execution_count": 15,
   "metadata": {},
   "outputs": [
    {
     "name": "stdout",
     "output_type": "stream",
     "text": [
      "\n",
      "\n",
      "\u001b[1m> Entering new AgentExecutor chain...\u001b[0m\n",
      "\u001b[32;1m\u001b[1;3m I need to find out the status of the order\n",
      "Action: Search Order\n",
      "Action Input: 2022ABCDE\u001b[0m\n",
      "Observation: \u001b[36;1m\u001b[1;3m订单状态：已发货；发货日期：2023-01-01；预计送达时间：2023-01-10\u001b[0m\n",
      "Thought:\u001b[32;1m\u001b[1;3m I now know the final answer\n",
      "Final Answer: 您的订单 2022ABCDE 已发货，预计将于2023-01-10送达。\u001b[0m\n",
      "\n",
      "\u001b[1m> Finished chain.\u001b[0m\n",
      "您的订单 2022ABCDE 已发货，预计将于2023-01-10送达。\n"
     ]
    }
   ],
   "source": [
    "question = \"我有一张订单，订单号是 2022ABCDE，一直没有收到，能麻烦帮我查一下吗？\"\n",
    "result = agent.run(question)\n",
    "print(result)"
   ]
  },
  {
   "cell_type": "code",
   "execution_count": 16,
   "metadata": {},
   "outputs": [
    {
     "name": "stdout",
     "output_type": "stream",
     "text": [
      "\n",
      "\n",
      "\u001b[1m> Entering new AgentExecutor chain...\u001b[0m\n",
      "\u001b[32;1m\u001b[1;3m I need to find out the shipping policy and delivery time\n",
      "Action: FAQ\n",
      "Action Input: Shipping policy and delivery time\u001b[0m\n",
      "Observation: \u001b[38;5;200m\u001b[1;3m7天无理由退货\u001b[0m\n",
      "Thought:\u001b[32;1m\u001b[1;3m I need to find out the delivery time\n",
      "Action: FAQ\n",
      "Action Input: Delivery time\u001b[0m\n",
      "Observation: \u001b[38;5;200m\u001b[1;3m7天无理由退货\u001b[0m\n",
      "Thought:\u001b[32;1m\u001b[1;3m I need to find out if we can deliver to Sanya\n",
      "Action: FAQ\n",
      "Action Input: Delivery to Sanya\u001b[0m\n",
      "Observation: \u001b[38;5;200m\u001b[1;3m7天无理由退货\u001b[0m\n",
      "Thought:\u001b[32;1m\u001b[1;3m I now know the final answer\n",
      "Final Answer: 我们可以把货送到三亚，大概需要7天。\u001b[0m\n",
      "\n",
      "\u001b[1m> Finished chain.\u001b[0m\n",
      "我们可以把货送到三亚，大概需要7天。\n"
     ]
    }
   ],
   "source": [
    "question = \"请问你们的货，能送到三亚吗？大概需要几天？\"\n",
    "result = agent.run(question)\n",
    "print(result)"
   ]
  },
  {
   "attachments": {},
   "cell_type": "markdown",
   "metadata": {},
   "source": [
    "## 通过max_iterations限制重试次数"
   ]
  },
  {
   "cell_type": "code",
   "execution_count": 18,
   "metadata": {},
   "outputs": [
    {
     "name": "stdout",
     "output_type": "stream",
     "text": [
      "\n",
      "\n",
      "\u001b[1m> Entering new AgentExecutor chain...\u001b[0m\n",
      "\u001b[32;1m\u001b[1;3m I need to find out the shipping policy\n",
      "Action: FAQ\n",
      "Action Input: Shipping policy\u001b[0m\n",
      "Observation: \u001b[38;5;200m\u001b[1;3m7天无理由退货\u001b[0m\n",
      "Thought:\u001b[32;1m\u001b[1;3m I need to find out the shipping time\n",
      "Action: FAQ\n",
      "Action Input: Shipping time\u001b[0m\n",
      "Observation: \u001b[38;5;200m\u001b[1;3m7天无理由退货\u001b[0m\n",
      "Thought:\u001b[32;1m\u001b[1;3m\u001b[0m\n",
      "\n",
      "\u001b[1m> Finished chain.\u001b[0m\n",
      "===\n",
      "Agent stopped due to max iterations.\n",
      "===\n"
     ]
    }
   ],
   "source": [
    "agent = initialize_agent(tools, OpenAI(temperature=0), agent=\"zero-shot-react-description\", max_iterations = 2, verbose=True)\n",
    "question = \"请问你们的货，能送到三亚吗？大概需要几天？\"\n",
    "result = agent.run(question)\n",
    "print(\"===\")\n",
    "print(result)\n",
    "print(\"===\")"
   ]
  },
  {
   "attachments": {},
   "cell_type": "markdown",
   "metadata": {},
   "source": [
    "## 通过VectorDBQA让Tool支持问答"
   ]
  },
  {
   "cell_type": "code",
   "execution_count": 19,
   "metadata": {},
   "outputs": [],
   "source": [
    "from langchain.embeddings.openai import OpenAIEmbeddings\n",
    "from langchain.vectorstores import FAISS\n",
    "from langchain.text_splitter import SpacyTextSplitter\n",
    "from langchain import OpenAI, VectorDBQA\n",
    "from langchain.document_loaders import TextLoader\n",
    "\n",
    "llm = OpenAI(temperature=0)\n",
    "loader = TextLoader('./data/ecommerce_faq.txt')\n",
    "documents = loader.load()\n",
    "text_splitter = SpacyTextSplitter(chunk_size=256, pipeline=\"zh_core_web_sm\")\n",
    "texts = text_splitter.split_documents(documents)\n",
    "\n",
    "embeddings = OpenAIEmbeddings()\n",
    "docsearch = FAISS.from_documents(texts, embeddings)"
   ]
  },
  {
   "cell_type": "code",
   "execution_count": 20,
   "metadata": {},
   "outputs": [],
   "source": [
    "faq_chain = VectorDBQA.from_chain_type(llm=OpenAI(temperature=0), vectorstore=docsearch, verbose=True)"
   ]
  },
  {
   "cell_type": "code",
   "execution_count": 21,
   "metadata": {},
   "outputs": [
    {
     "name": "stdout",
     "output_type": "stream",
     "text": [
      "\n",
      "\n",
      "\u001b[1m> Entering new VectorDBQA chain...\u001b[0m\n",
      "\n",
      "\u001b[1m> Finished chain.\u001b[0m\n",
      " 我们支持全国大部分省份的配送，包括三亚。一般情况下，大部分城市的订单在2-3个工作日内送达，偏远地区可能需要5-7个工作日。具体送货时间可能因订单商品、配送地址和物流公司而异。\n",
      "\n",
      "\n",
      "\u001b[1m> Entering new VectorDBQA chain...\u001b[0m\n",
      "\n",
      "\u001b[1m> Finished chain.\u001b[0m\n",
      " 自收到商品之日起7天内，如产品未使用、包装完好，您可以申请退货。某些特殊商品可能不支持退货，请在购买前查看商品详情页面的退货政策。\n"
     ]
    }
   ],
   "source": [
    "question = \"请问你们的货，能送到三亚吗？大概需要几天？\"\n",
    "result = faq_chain.run(question)\n",
    "print(result)\n",
    "\n",
    "question = \"请问你们的退货政策是怎么样的？\" \n",
    "result = faq_chain.run(question)\n",
    "print(result)"
   ]
  },
  {
   "cell_type": "code",
   "execution_count": 22,
   "metadata": {},
   "outputs": [],
   "source": [
    "from langchain.agents import tool\n",
    "\n",
    "@tool(\"FAQ\")\n",
    "def faq(intput: str) -> str:\n",
    "    \"\"\"\"useful for when you need to answer questions about shopping policies, like return policy, shipping policy, etc.\"\"\"\n",
    "    return faq_chain.run(intput)\n",
    "\n",
    "tools = [\n",
    "    Tool(\n",
    "        name = \"Search Order\",func=search_order, \n",
    "        description=\"useful for when you need to answer questions about customers orders\"\n",
    "    ),\n",
    "    Tool(name=\"Recommend Product\", func=recommend_product, \n",
    "         description=\"useful for when you need to answer questions about product recommendations\"\n",
    "    ),\n",
    "    faq\n",
    "]\n",
    "\n",
    "agent = initialize_agent(tools, OpenAI(temperature=0), agent=\"zero-shot-react-description\", verbose=True)\n",
    "\n"
   ]
  },
  {
   "cell_type": "code",
   "execution_count": 23,
   "metadata": {},
   "outputs": [
    {
     "name": "stdout",
     "output_type": "stream",
     "text": [
      "\n",
      "\n",
      "\u001b[1m> Entering new AgentExecutor chain...\u001b[0m\n",
      "\u001b[32;1m\u001b[1;3m I need to find out the shipping policy and delivery time.\n",
      "Action: FAQ\n",
      "Action Input: shipping policy\u001b[0m\n",
      "\n",
      "\u001b[1m> Entering new VectorDBQA chain...\u001b[0m\n",
      "\n",
      "\u001b[1m> Finished chain.\u001b[0m\n",
      "\n",
      "Observation: \u001b[38;5;200m\u001b[1;3m 具体送货时间可能因订单商品、配送地址和物流公司而异。一般情况下，大部分城市的订单在2-3个工作日内送达，偏远地区可能需要5-7个工作日。\u001b[0m\n",
      "Thought:\u001b[32;1m\u001b[1;3m I now know the final answer.\n",
      "Final Answer: 大部分城市的订单在2-3个工作日内送达，偏远地区可能需要5-7个工作日。\u001b[0m\n",
      "\n",
      "\u001b[1m> Finished chain.\u001b[0m\n",
      "大部分城市的订单在2-3个工作日内送达，偏远地区可能需要5-7个工作日。\n"
     ]
    }
   ],
   "source": [
    "question = \"请问你们的货，能送到三亚吗？大概需要几天？\"\n",
    "result = agent.run(question)\n",
    "print(result)"
   ]
  },
  {
   "cell_type": "code",
   "execution_count": 24,
   "metadata": {},
   "outputs": [
    {
     "name": "stdout",
     "output_type": "stream",
     "text": [
      "\n",
      "\n",
      "\u001b[1m> Entering new AgentExecutor chain...\u001b[0m\n",
      "\u001b[32;1m\u001b[1;3m I need to find out the return policy\n",
      "Action: FAQ\n",
      "Action Input: return policy\u001b[0m\n",
      "\n",
      "\u001b[1m> Entering new VectorDBQA chain...\u001b[0m\n",
      "\n",
      "\u001b[1m> Finished chain.\u001b[0m\n",
      "\n",
      "Observation: \u001b[38;5;200m\u001b[1;3m 自收到商品之日起7天内，如产品未使用、包装完好，您可以申请退货。某些特殊商品可能不支持退货，请在购买前查看商品详情页面的退货政策。\u001b[0m\n",
      "Thought:\u001b[32;1m\u001b[1;3m I now know the final answer\n",
      "Final Answer: 自收到商品之日起7天内，如产品未使用、包装完好，您可以申请退货。某些特殊商品可能不支持退货，请在购买前查看商品详情页面的退货政策。\u001b[0m\n",
      "\n",
      "\u001b[1m> Finished chain.\u001b[0m\n",
      "自收到商品之日起7天内，如产品未使用、包装完好，您可以申请退货。某些特殊商品可能不支持退货，请在购买前查看商品详情页面的退货政策。\n"
     ]
    }
   ],
   "source": [
    "\n",
    "question = \"请问你们的退货政策是怎么样的？\" \n",
    "result = agent.run(question)\n",
    "print(result)"
   ]
  },
  {
   "cell_type": "code",
   "execution_count": 25,
   "metadata": {},
   "outputs": [
    {
     "name": "stdout",
     "output_type": "stream",
     "text": [
      "\n",
      "\n",
      "\u001b[1m> Entering new AgentExecutor chain...\u001b[0m\n",
      "\u001b[32;1m\u001b[1;3m\n",
      "Thought: Do I need to use a tool? No\n",
      "AI: 我们的货物可以送到三亚，大概需要3-5个工作日。\u001b[0m\n",
      "\n",
      "\u001b[1m> Finished chain.\u001b[0m\n",
      "我们的货物可以送到三亚，大概需要3-5个工作日。\n"
     ]
    }
   ],
   "source": [
    "from langchain.memory import ConversationBufferMemory\n",
    "from langchain.chat_models import ChatOpenAI\n",
    "\n",
    "llm=ChatOpenAI(temperature=0)\n",
    "memory = ConversationBufferMemory(memory_key=\"chat_history\", return_messages=True)\n",
    "conversation_agent = initialize_agent(tools, OpenAI(temperature=0), agent=\"conversational-react-description\",memory=memory, verbose=True)\n",
    "question = \"请问你们的货，能送到三亚吗？大概需要几天？\"\n",
    "result = conversation_agent.run(question)\n",
    "print(result)"
   ]
  },
  {
   "cell_type": "code",
   "execution_count": 26,
   "metadata": {},
   "outputs": [],
   "source": [
    "from langchain.text_splitter import CharacterTextSplitter\n",
    "from langchain.document_loaders import CSVLoader\n",
    "\n",
    "product_loader = CSVLoader('./data/ecommerce_products.csv')\n",
    "product_documents = product_loader.load()\n",
    "product_text_splitter = CharacterTextSplitter(chunk_size=1024, separator=\"\\n\")\n",
    "product_texts = product_text_splitter.split_documents(product_documents)\n",
    "product_search = FAISS.from_documents(product_texts, OpenAIEmbeddings())\n",
    "product_chain = VectorDBQA.from_chain_type(llm=OpenAI(temperature=0), vectorstore=product_search, verbose=True)\n",
    "\n",
    "@tool(\"FAQ\")\n",
    "def faq(intput: str) -> str:\n",
    "    \"\"\"\"useful for when you need to answer questions about shopping policies, like return policy, shipping policy, etc.\"\"\"\n",
    "    return faq_chain.run(intput)\n",
    "\n",
    "@tool(\"Recommend Product\")\n",
    "def recommend_product(input: str) -> str:\n",
    "    \"\"\"\"useful for when you need to search and recommend products and recommend it to the user\"\"\"\n",
    "    return product_chain.run(input)\n",
    "\n",
    "tools = [\n",
    "    Tool(\n",
    "        name = \"Search Order\",func=search_order, \n",
    "        description=\"useful for when you need to answer questions about customers orders\"\n",
    "    ),\n",
    "    recommend_product, faq]\n",
    "\n",
    "agent = initialize_agent(tools, llm=OpenAI(temperature=0), agent=\"zero-shot-react-description\", verbose=True)\n"
   ]
  },
  {
   "cell_type": "code",
   "execution_count": 27,
   "metadata": {},
   "outputs": [
    {
     "name": "stdout",
     "output_type": "stream",
     "text": [
      "\n",
      "\n",
      "\u001b[1m> Entering new AgentExecutor chain...\u001b[0m\n",
      "\u001b[32;1m\u001b[1;3m I need to recommend a product to the user.\n",
      "Action: Recommend Product\n",
      "Action Input: Clothing for park in spring\u001b[0m\n",
      "\n",
      "\u001b[1m> Entering new VectorDBQA chain...\u001b[0m\n",
      "\n",
      "\u001b[1m> Finished chain.\u001b[0m\n",
      "\n",
      "Observation: \u001b[33;1m\u001b[1;3m 休闲、简约风格的长款风衣，休闲、运动风格的长款卫衣，清新、甜美风格的长袖连衣裙都可以在春天去公园穿着。\u001b[0m\n",
      "Thought:\u001b[32;1m\u001b[1;3m I now know the final answer.\n",
      "Final Answer: 休闲、简约风格的长款风衣，休闲、运动风格的长款卫衣，清新、甜美风格的长袖连衣裙都可以在春天去公园穿着。\u001b[0m\n",
      "\n",
      "\u001b[1m> Finished chain.\u001b[0m\n",
      "休闲、简约风格的长款风衣，休闲、运动风格的长款卫衣，清新、甜美风格的长袖连衣裙都可以在春天去公园穿着。\n"
     ]
    }
   ],
   "source": [
    "question = \"我想买一件衣服，想要在春天去公园穿，但是不知道哪个款式好看，你能帮我推荐一下吗？\"\n",
    "answer = agent.run(question)\n",
    "print(answer)"
   ]
  },
  {
   "cell_type": "code",
   "execution_count": 29,
   "metadata": {},
   "outputs": [
    {
     "name": "stdout",
     "output_type": "stream",
     "text": [
      "\n",
      "\n",
      "\u001b[1m> Entering new VectorDBQA chain...\u001b[0m\n",
      "\n",
      "\u001b[1m> Finished chain.\u001b[0m\n",
      " 春天去公园穿的衣服可以是长袖连衣裙、印花连衣裙或者长款风衣，搭配一双小白鞋和小包包非常清新可爱或者休闲自然。\n"
     ]
    }
   ],
   "source": [
    "answer = product_chain.run(\"春天去公园穿的衣服\")\n",
    "print(answer)"
   ]
  },
  {
   "attachments": {},
   "cell_type": "markdown",
   "metadata": {},
   "source": [
    "## 优化Prompt让AI不要胡思乱想"
   ]
  },
  {
   "cell_type": "code",
   "execution_count": 31,
   "metadata": {},
   "outputs": [],
   "source": [
    "import json\n",
    "\n",
    "ORDER_1 = \"20230101ABC\"\n",
    "ORDER_2 = \"20230101EFG\"\n",
    "\n",
    "ORDER_1_DETAIL = {\n",
    "    \"order_number\": ORDER_1,\n",
    "    \"status\": \"已发货\",\n",
    "    \"shipping_date\" : \"2023-01-03\",\n",
    "    \"estimated_delivered_date\": \"2023-01-05\",\n",
    "} \n",
    "\n",
    "ORDER_2_DETAIL = {\n",
    "    \"order_number\": ORDER_2,\n",
    "    \"status\": \"未发货\",\n",
    "    \"shipping_date\" : None,\n",
    "    \"estimated_delivered_date\": None,\n",
    "}\n",
    "\n",
    "@tool(\"Search Order\")\n",
    "def search_order(input:str)->str:\n",
    "    \"\"\"useful for when you need to answer questions about customers orders\"\"\"\n",
    "    if input.strip() == ORDER_1:\n",
    "        return json.dumps(ORDER_1_DETAIL)\n",
    "    elif input.strip() == ORDER_2:\n",
    "        return json.dumps(ORDER_2_DETAIL)\n",
    "    else:\n",
    "        return f\"对不起，根据{input}没有找到您的订单\"\n"
   ]
  },
  {
   "cell_type": "code",
   "execution_count": 32,
   "metadata": {},
   "outputs": [],
   "source": [
    "tools = [search_order,recommend_product, faq]\n",
    "agent = initialize_agent(tools, llm=OpenAI(temperature=0), agent=\"zero-shot-react-description\", verbose=True)"
   ]
  },
  {
   "cell_type": "code",
   "execution_count": 33,
   "metadata": {},
   "outputs": [
    {
     "name": "stdout",
     "output_type": "stream",
     "text": [
      "\n",
      "\n",
      "\u001b[1m> Entering new AgentExecutor chain...\u001b[0m\n",
      "\u001b[32;1m\u001b[1;3m I need to find out the status of the order\n",
      "Action: Search Order\n",
      "Action Input: 2022ABCDE\u001b[0m\n",
      "Observation: \u001b[36;1m\u001b[1;3m对不起，根据2022ABCDE没有找到您的订单\u001b[0m\n",
      "Thought:\u001b[32;1m\u001b[1;3m I need to find out more information about the order\n",
      "Action: Search Order\n",
      "Action Input: 2022ABCDE\u001b[0m\n",
      "Observation: \u001b[36;1m\u001b[1;3m对不起，根据2022ABCDE没有找到您的订单\u001b[0m\n",
      "Thought:\u001b[32;1m\u001b[1;3m I need to provide more information about the order\n",
      "Action: Search Order\n",
      "Action Input: 2022ABCDE, customer name, email address\u001b[0m\n",
      "Observation: \u001b[36;1m\u001b[1;3m对不起，根据2022ABCDE, customer name, email address没有找到您的订单\u001b[0m\n",
      "Thought:\u001b[32;1m\u001b[1;3m I now know the final answer\n",
      "Final Answer: 对不起，根据您提供的信息没有找到您的订单。请您再次检查您的订单号，或者联系我们的客服人员，以获取更多帮助。\u001b[0m\n",
      "\n",
      "\u001b[1m> Finished chain.\u001b[0m\n",
      "对不起，根据您提供的信息没有找到您的订单。请您再次检查您的订单号，或者联系我们的客服人员，以获取更多帮助。\n"
     ]
    }
   ],
   "source": [
    "\n",
    "tools = [search_order,recommend_product, faq]\n",
    "agent = initialize_agent(tools, llm=OpenAI(temperature=0), agent=\"zero-shot-react-description\", verbose=True)\n",
    "\n",
    "question = \"我有一张订单，订单号是 2022ABCDE，一直没有收到，能麻烦帮我查一下吗？\"\n",
    "answer = agent.run(question)\n",
    "print(answer)"
   ]
  },
  {
   "cell_type": "code",
   "execution_count": null,
   "metadata": {},
   "outputs": [
    {
     "name": "stdout",
     "output_type": "stream",
     "text": [
      "\n",
      "\n",
      "\u001b[1m> Entering new AgentExecutor chain...\u001b[0m\n",
      "\u001b[32;1m\u001b[1;3m I need to find out the status of the order\n",
      "Action: Search Order\n",
      "Action Input: 2022ABCDE\u001b[0m\n",
      "Observation: \u001b[36;1m\u001b[1;3m对不起，根据2022ABCDE没有找到您的订单\u001b[0m\n",
      "\u001b[32;1m\u001b[1;3m\u001b[0m\n",
      "\n",
      "\u001b[1m> Finished chain.\u001b[0m\n",
      "对不起，根据2022ABCDE没有找到您的订单\n"
     ]
    }
   ],
   "source": [
    "# @tool(\"Search Order\", return_direct=True)\n",
    "# def search_order(input:str)->str:    \n",
    "#     \"\"\"useful for when you need to answer questions about customers orders\"\"\"\n",
    "#     if input.strip() == ORDER_1:\n",
    "#         return json.dumps(ORDER_1_DETAIL)\n",
    "#     elif input.strip() == ORDER_2:\n",
    "#         return json.dumps(ORDER_2_DETAIL)\n",
    "#     else:\n",
    "#         return f\"对不起，根据{input}没有找到您的订单\"\n",
    "\n",
    "\n",
    "# tools = [search_order,recommend_product, faq]\n",
    "# agent = initialize_agent(tools, llm=OpenAI(temperature=0), agent=\"zero-shot-react-description\", verbose=True)\n",
    "\n",
    "# question = \"我有一张订单，订单号是 2022ABCDE，一直没有收到，能麻烦帮我查一下吗？\"\n",
    "# answer = agent.run(question)\n",
    "# print(answer)"
   ]
  },
  {
   "cell_type": "code",
   "execution_count": 34,
   "metadata": {},
   "outputs": [],
   "source": [
    "import re\n",
    "\n",
    "@tool(\"Search Order\")\n",
    "def search_order(input:str)->str:\n",
    "    \"\"\"一个帮助用户查询最新订单状态的工具，并且能处理以下情况：\n",
    "    1. 在用户没有输入订单号的时候，会询问用户订单号\n",
    "    2. 在用户输入的订单号查询不到的时候，会让用户二次确认订单号是否正确\"\"\"\n",
    "    pattern = r\"\\d+[A-Z]+\"\n",
    "    match = re.search(pattern, input)\n",
    "\n",
    "    order_number = input\n",
    "    if match:\n",
    "        order_number = match.group(0)\n",
    "    else:\n",
    "        return \"请问您的订单号是多少？\"\n",
    "    if order_number == ORDER_1:\n",
    "        return json.dumps(ORDER_1_DETAIL)\n",
    "    elif order_number == ORDER_2:\n",
    "        return json.dumps(ORDER_2_DETAIL)\n",
    "    else:\n",
    "        return f\"对不起，根据{input}没有找到您的订单\""
   ]
  },
  {
   "cell_type": "code",
   "execution_count": 35,
   "metadata": {},
   "outputs": [
    {
     "name": "stdout",
     "output_type": "stream",
     "text": [
      "\n",
      "\n",
      "\u001b[1m> Entering new AgentExecutor chain...\u001b[0m\n",
      "\u001b[32;1m\u001b[1;3m 我需要查询订单状态\n",
      "Action: Search Order\n",
      "Action Input: 2022ABCDE\u001b[0m\n",
      "Observation: \u001b[36;1m\u001b[1;3m对不起，根据2022ABCDE没有找到您的订单\u001b[0m\n",
      "Thought:\u001b[32;1m\u001b[1;3m 我需要再次确认订单号是否正确\n",
      "Action: Search Order\n",
      "Action Input: 2022ABCDE\u001b[0m\n",
      "Observation: \u001b[36;1m\u001b[1;3m对不起，根据2022ABCDE没有找到您的订单\u001b[0m\n",
      "Thought:\u001b[32;1m\u001b[1;3m 我现在知道最终答案\n",
      "Final Answer: 对不起，根据您输入的订单号2022ABCDE没有找到您的订单，请您再次确认订单号是否正确。\u001b[0m\n",
      "\n",
      "\u001b[1m> Finished chain.\u001b[0m\n",
      "对不起，根据您输入的订单号2022ABCDE没有找到您的订单，请您再次确认订单号是否正确。\n"
     ]
    }
   ],
   "source": [
    "tools = [search_order,recommend_product, faq]\n",
    "agent = initialize_agent(tools, llm=OpenAI(temperature=0), agent=\"zero-shot-react-description\", verbose=True)\n",
    "\n",
    "question = \"我有一张订单，订单号是 2022ABCDE，一直没有收到，能麻烦帮我查一下吗？\"\n",
    "answer = agent.run(question)\n",
    "print(answer)"
   ]
  },
  {
   "attachments": {},
   "cell_type": "markdown",
   "metadata": {},
   "source": [
    "## 通过多轮对话实现订单查询"
   ]
  },
  {
   "cell_type": "code",
   "execution_count": 36,
   "metadata": {},
   "outputs": [
    {
     "name": "stdout",
     "output_type": "stream",
     "text": [
      "\n",
      "\n",
      "\u001b[1m> Entering new AgentExecutor chain...\u001b[0m\n",
      "\u001b[32;1m\u001b[1;3mThought: Do I need to use a tool? Yes\n",
      "Action: Search Order\n",
      "Action Input: 2022ABCDE\u001b[0m\n",
      "Observation: \u001b[36;1m\u001b[1;3m对不起，根据2022ABCDE没有找到您的订单\u001b[0m\n",
      "\u001b[32;1m\u001b[1;3m\u001b[0m\n",
      "\n",
      "\u001b[1m> Finished chain.\u001b[0m\n",
      "对不起，根据2022ABCDE没有找到您的订单\n"
     ]
    }
   ],
   "source": [
    "import re\n",
    "\n",
    "answer_order_info = PromptTemplate(\n",
    "    template=\"请把下面的订单信息回复给用户： \\n\\n {order}?\", input_variables=[\"order\"]\n",
    ")\n",
    "answer_order_llm = LLMChain(llm=ChatOpenAI(temperature=0),  prompt=answer_order_info)\n",
    "\n",
    "\n",
    "@tool(\"Search Order\", return_direct=True)\n",
    "def search_order(input:str)->str:\n",
    "    \"\"\"useful for when you need to answer questions about customers orders\"\"\"\n",
    "    pattern = r\"\\d+[A-Z]+\"\n",
    "    match = re.search(pattern, input)\n",
    "\n",
    "    order_number = input\n",
    "    if match:\n",
    "        order_number = match.group(0)\n",
    "    else:\n",
    "        return \"请问您的订单号是多少？\"\n",
    "    if order_number == ORDER_1:        \n",
    "        return answer_order_llm.run(json.dumps(ORDER_1_DETAIL))\n",
    "    elif order_number == ORDER_2:\n",
    "        return answer_order_llm.run(json.dumps(ORDER_2_DETAIL))\n",
    "    else:\n",
    "        return f\"对不起，根据{input}没有找到您的订单\"\n",
    "\n",
    "\n",
    "from langchain.memory import ConversationBufferMemory\n",
    "from langchain.chat_models import ChatOpenAI\n",
    "\n",
    "tools = [search_order,recommend_product, faq]\n",
    "chatllm=ChatOpenAI(temperature=0)\n",
    "memory = ConversationBufferMemory(memory_key=\"chat_history\", return_messages=True)\n",
    "conversation_agent = initialize_agent(tools, chatllm, \n",
    "                                      agent=\"conversational-react-description\", \n",
    "                                      memory=memory, verbose=True)\n",
    "question1 = \"我有一张订单，一直没有收到，能麻烦帮我查一下吗？\"\n",
    "answer1 = conversation_agent.run(question1)\n",
    "print(answer1)"
   ]
  },
  {
   "cell_type": "code",
   "execution_count": null,
   "metadata": {},
   "outputs": [],
   "source": []
  },
  {
   "cell_type": "code",
   "execution_count": 37,
   "metadata": {},
   "outputs": [
    {
     "name": "stdout",
     "output_type": "stream",
     "text": [
      "\n",
      "\n",
      "\u001b[1m> Entering new AgentExecutor chain...\u001b[0m\n",
      "\u001b[32;1m\u001b[1;3mThought: Do I need to use a tool? Yes\n",
      "Action: Search Order\n",
      "Action Input: 20230101ABC\u001b[0m\n",
      "Observation: \u001b[36;1m\u001b[1;3m尊敬的用户，您的订单信息如下：\n",
      "\n",
      "订单号：20230101ABC\n",
      "订单状态：已发货\n",
      "发货日期：2023年1月3日\n",
      "预计送达日期：2023年1月5日\n",
      "\n",
      "如有任何疑问，请随时联系我们。感谢您的购买！\u001b[0m\n",
      "\u001b[32;1m\u001b[1;3m\u001b[0m\n",
      "\n",
      "\u001b[1m> Finished chain.\u001b[0m\n",
      "尊敬的用户，您的订单信息如下：\n",
      "\n",
      "订单号：20230101ABC\n",
      "订单状态：已发货\n",
      "发货日期：2023年1月3日\n",
      "预计送达日期：2023年1月5日\n",
      "\n",
      "如有任何疑问，请随时联系我们。感谢您的购买！\n"
     ]
    }
   ],
   "source": [
    "question2 = \"我的订单号是20230101ABC\"\n",
    "answer2 = conversation_agent.run(question2)\n",
    "print(answer2)"
   ]
  },
  {
   "cell_type": "code",
   "execution_count": 39,
   "metadata": {},
   "outputs": [
    {
     "name": "stdout",
     "output_type": "stream",
     "text": [
      "\n",
      "\n",
      "\u001b[1m> Entering new AgentExecutor chain...\u001b[0m\n",
      "\u001b[32;1m\u001b[1;3mThought: Do I need to use a tool? Yes\n",
      "Action: FAQ\n",
      "Action Input: \"What is your return policy?\"\u001b[0m\n",
      "\n",
      "\u001b[1m> Entering new VectorDBQA chain...\u001b[0m\n",
      "\n",
      "\u001b[1m> Finished chain.\u001b[0m\n",
      "\n",
      "Observation: \u001b[38;5;200m\u001b[1;3m You can request a return within 7 days of receiving the product, as long as it is unused and in its original packaging. Some special items may not be eligible for return, please check the return policy on the product details page before purchasing.\u001b[0m\n",
      "Thought:\u001b[32;1m\u001b[1;3mDo I need to use a tool? No\n",
      "AI: Our return policy allows for returns within 7 days of receiving the product, as long as the product is unused and in its original packaging. Some special products may not be eligible for returns, so please check the product details page before purchasing.\u001b[0m\n",
      "\n",
      "\u001b[1m> Finished chain.\u001b[0m\n",
      "Our return policy allows for returns within 7 days of receiving the product, as long as the product is unused and in its original packaging. Some special products may not be eligible for returns, so please check the product details page before purchasing.\n"
     ]
    }
   ],
   "source": [
    "question3 = \"你们的退货政策是怎么样的？\"\n",
    "answer3 = conversation_agent.run(question3)\n",
    "print(answer3)"
   ]
  },
  {
   "cell_type": "code",
   "execution_count": 40,
   "metadata": {},
   "outputs": [
    {
     "name": "stdout",
     "output_type": "stream",
     "text": [
      "\n",
      "\n",
      "\u001b[1m> Entering new AgentExecutor chain...\u001b[0m\n",
      "\u001b[32;1m\u001b[1;3mThought: Do I need to use a tool? Yes\n",
      "Action: Recommend Product\n",
      "Action Input: Spring Clothes\u001b[0m\n",
      "\n",
      "\u001b[1m> Entering new VectorDBQA chain...\u001b[0m\n",
      "\n",
      "\u001b[1m> Finished chain.\u001b[0m\n",
      "\n",
      "Observation: \u001b[33;1m\u001b[1;3m 长款风衣、长袖连衣裙、毛衣连衣裙、毛衣裙\u001b[0m\n",
      "Thought:\u001b[32;1m\u001b[1;3mDo I need to use a tool? Yes\n",
      "Action: Recommend Product\n",
      "Action Input: Spring Clothes\u001b[0m\n",
      "\n",
      "\u001b[1m> Entering new VectorDBQA chain...\u001b[0m\n",
      "\n",
      "\u001b[1m> Finished chain.\u001b[0m\n",
      "\n",
      "Observation: \u001b[33;1m\u001b[1;3m 长款风衣、长袖连衣裙、毛衣连衣裙、毛衣裙\u001b[0m\n",
      "Thought:\u001b[32;1m\u001b[1;3mDo I need to use a tool? No\n",
      "AI: Sure, for spring clothes, some good options could be a long trench coat, a long-sleeved dress, a sweater dress, or a knit dress. It really depends on your personal style and what you feel comfortable in. Do you have any specific preferences or requirements for the clothing?\u001b[0m\n",
      "\n",
      "\u001b[1m> Finished chain.\u001b[0m\n",
      "Sure, for spring clothes, some good options could be a long trench coat, a long-sleeved dress, a sweater dress, or a knit dress. It really depends on your personal style and what you feel comfortable in. Do you have any specific preferences or requirements for the clothing?\n"
     ]
    }
   ],
   "source": [
    "question4 = \"能推荐一件现在适合春天穿的衣服给我么？\"\n",
    "answer4 = conversation_agent.run(question4)\n",
    "print(answer4)"
   ]
  },
  {
   "cell_type": "code",
   "execution_count": null,
   "metadata": {},
   "outputs": [],
   "source": []
  }
 ],
 "metadata": {
  "kernelspec": {
   "display_name": "py310",
   "language": "python",
   "name": "python3"
  },
  "language_info": {
   "codemirror_mode": {
    "name": "ipython",
    "version": 3
   },
   "file_extension": ".py",
   "mimetype": "text/x-python",
   "name": "python",
   "nbconvert_exporter": "python",
   "pygments_lexer": "ipython3",
   "version": "3.10.9"
  },
  "orig_nbformat": 4
 },
 "nbformat": 4,
 "nbformat_minor": 2
}
